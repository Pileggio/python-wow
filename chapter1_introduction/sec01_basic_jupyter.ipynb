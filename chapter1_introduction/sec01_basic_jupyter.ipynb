{
 "cells": [
  {
   "cell_type": "markdown",
   "metadata": {},
   "source": [
    "## Basic Jupyter\n",
    "\n",
    "If you've gotten this notebook working in your browser, then you're very close to overcoming the hardest part of all software development: getting the computer turn on, take your code, excecute it, and produce the desired output. [If you're reading this document on GitHub but don't have Jupyter installed, follow these instructions.](http://jupyter.readthedocs.io/en/latest/install.html)\n",
    "\n",
    "\n",
    "To test that you've really gotten this far, click in the code cell below (code cells are indicated with `In [ ]:`). If you click on a cell outside of the textbox, it should turn blue:\n",
    "\n",
    "![](../assets/blue_highlight.png)\n",
    "\n",
    "The **blue** border indicates that you are in `Command mode`. On the other hand, if you click inside the textbox, the border should turn **green**:\n",
    "\n",
    "![](../assets/green_highlight.png)\n",
    "\n",
    "Try it out:"
   ]
  },
  {
   "cell_type": "code",
   "execution_count": 1,
   "metadata": {},
   "outputs": [
    {
     "name": "stdout",
     "output_type": "stream",
     "text": [
      "Nǐ hǎo, shìjiè\n"
     ]
    }
   ],
   "source": [
    "message = \"Nǐ hǎo, shìjiè\"\n",
    "print(message)"
   ]
  },
  {
   "cell_type": "markdown",
   "metadata": {},
   "source": [
    "You should be able to flip the cell back and forth from green to blue. Once you've selected a cell, you can enter edit mode (green) by pressing `Enter` and you can return to command mode by pressing `Esc`."
   ]
  },
  {
   "cell_type": "markdown",
   "metadata": {},
   "source": [
    "### Executing code\n",
    "\n",
    "Now you're ready to execute the program. \n",
    "Unlike C, Python is an *interpreted* language.\n",
    "That means we don't compile the program down to raw machine instructions that we can feed directly to your computer's processor. \n",
    "Instead we're going to rely upon another program to act as an intermediary to execute your program.\n",
    "In Jupyter these programs, which allow you to run your code interactively and inspect your code are called \"kernels\".\n",
    "For some reason, this definition is often overlooked, \n",
    "which is extremely annoying \n",
    "because the term \"kernel\" is badly overloaded. \n",
    "The central part of an operating system is called a kernel,\n",
    "the Python interpreter is called a \"kernel\",\n",
    "and once we move on to advanced applications of data science,\n",
    "we'll find that the word \"kernel\" is used to refer to a similarity metric.\n",
    "\n",
    "Jupyter supports kernels for many languages, including various versions of Julia, Lua, Matlab, Perl, PhP, Python.\n",
    "Some of these languages are great, \n",
    "while others are horrendous wastes of time \n",
    "that might sap your will to live.\n",
    "We'll postpone that debate for another time\n",
    "because in this course I've declared axiomatically\n",
    "that the only language of interest is Python3.\n",
    "To make sure that Jupyter is using the Python3 kernel\n",
    "to execute your code, select it from the Kernel dropdown:\n",
    "\n",
    "![](../assets/kernel_dropdown_small.png)\n",
    "\n",
    "Running code is simple. Just select the cell you want to execute.\n",
    "Now you have three main choices. If you prefer the visual interface, hit the \"Run\" button above:\n",
    "![](../assets/run_cell_small.png)\n",
    "\n",
    "Try it out below"
   ]
  },
  {
   "cell_type": "code",
   "execution_count": 2,
   "metadata": {},
   "outputs": [
    {
     "name": "stdout",
     "output_type": "stream",
     "text": [
      "Nǐ hǎo, shìjiè\n"
     ]
    }
   ],
   "source": [
    "message = \"Nǐ hǎo, shìjiè\"\n",
    "print(message)"
   ]
  },
  {
   "cell_type": "markdown",
   "metadata": {},
   "source": [
    "If everything worked, then you probably see should see `Nǐ hǎo, shìjiè`,\n",
    "printed just below your code block. You just ran your first program! \n",
    "Eventually you'll probably get tired of having to move your mouse every time you want to execute a cell. \n",
    "\n",
    "As a result, I recommend memorizing the following two key sequences:\n",
    "`CTRL+Enter` which will run a cell and keep focus on that same cell\n",
    "and `Shift+Enter`, which runs the cell and moves focus to the next cell.\n",
    "\n"
   ]
  },
  {
   "cell_type": "markdown",
   "metadata": {},
   "source": [
    "### Printing variables\n",
    "\n",
    "One last detail before we move on. You might have noticed that instead of the usual `print(\"Hello, world!\")` program, we did a couple things differently. First, we printed the message in phonetic Chinese to avoid the monotony of having to write \"Hello, world\" for the n-teenth time.\n",
    "But more importantly, we first wrote our message in to a variable called `message`. Then we printed the message:\n",
    "\n",
    "```\n",
    "message = \"Nǐ hǎo, shìjiè\"\n",
    "print(message)\n",
    "```\n",
    "\n",
    "As you can see, that's not actually necessary."
   ]
  },
  {
   "cell_type": "code",
   "execution_count": 3,
   "metadata": {},
   "outputs": [
    {
     "name": "stdout",
     "output_type": "stream",
     "text": [
      "Nǐ hǎo, shìjiè\n"
     ]
    }
   ],
   "source": [
    "print(\"Nǐ hǎo, shìjiè\")"
   ]
  },
  {
   "cell_type": "markdown",
   "metadata": {},
   "source": [
    "A variable is just a placeholder where we can store arbitrary data, in this case a text string. We'll get more into precisely what variables and various data types are in the next notebook. But we snuck it in early here show off three more aspects of how Jupyter notebooks work.\n",
    "\n",
    "First, notice that variables, once assigned, persist across notebook cells. So if we take the variable `message` defined above, we can print it again without having to define it again:"
   ]
  },
  {
   "cell_type": "code",
   "execution_count": 4,
   "metadata": {},
   "outputs": [
    {
     "name": "stdout",
     "output_type": "stream",
     "text": [
      "Nǐ hǎo, shìjiè\n"
     ]
    }
   ],
   "source": [
    "print(message)"
   ]
  },
  {
   "cell_type": "markdown",
   "metadata": {},
   "source": [
    "Next, note that if we put a variable name as the last line of a codeblock,\n",
    "Jupyter will assume that we want to print it to the screen."
   ]
  },
  {
   "cell_type": "code",
   "execution_count": 5,
   "metadata": {},
   "outputs": [
    {
     "data": {
      "text/plain": [
       "11"
      ]
     },
     "execution_count": 5,
     "metadata": {},
     "output_type": "execute_result"
    }
   ],
   "source": [
    "a = 10\n",
    "b = 11\n",
    "c = 12\n",
    "b"
   ]
  },
  {
   "cell_type": "markdown",
   "metadata": {},
   "source": [
    "Third, **Jupyter doesn't care in what order the blocks appear in the notebook**. It only **in what order the cells are run.** We can test this by running the cells below. If you run them in the order that they appear,\n",
    "you should get an error: ``NameError: name 'message_chinese' is not defined``. If you run the second cell first, then everything should go smoothly."
   ]
  },
  {
   "cell_type": "code",
   "execution_count": 8,
   "metadata": {},
   "outputs": [
    {
     "name": "stdout",
     "output_type": "stream",
     "text": [
      "你好，世界\n"
     ]
    }
   ],
   "source": [
    "print(message_chinese)"
   ]
  },
  {
   "cell_type": "code",
   "execution_count": 7,
   "metadata": {},
   "outputs": [],
   "source": [
    "message_chinese = \"你好，世界\""
   ]
  }
 ],
 "metadata": {
  "kernelspec": {
   "display_name": "Python 3",
   "language": "python",
   "name": "python3"
  },
  "language_info": {
   "codemirror_mode": {
    "name": "ipython",
    "version": 3
   },
   "file_extension": ".py",
   "mimetype": "text/x-python",
   "name": "python",
   "nbconvert_exporter": "python",
   "pygments_lexer": "ipython3",
   "version": "3.6.5"
  }
 },
 "nbformat": 4,
 "nbformat_minor": 2
}
