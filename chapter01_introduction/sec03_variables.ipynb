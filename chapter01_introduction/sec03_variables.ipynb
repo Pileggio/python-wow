{
 "cells": [
  {
   "cell_type": "markdown",
   "metadata": {},
   "source": [
    "# Variables\n",
    "\n",
    "Now that you have a grasp on *literals*, it's worth asking –how else can we express objects besides using literals? If all values manipulated in a program were *literals*,\n",
    "then we wouldn't need a special name to describe these expressions.\n",
    "It turns out that programs using only literals would not be very interesting. \n",
    "Programming would be like using a calculator. \n",
    "Every program might run the same way every time \n",
    "because all values are hard-coded!\n",
    "The alternative is to store values in *variables*.\n",
    "And this simple abstraction is going to make it easy to write flexible, complex programs.\n",
    "\n",
    "## Assignment\n",
    "\n",
    "Don't worry this isn't a *homework assignment*. In programming ***assignment*** \n",
    "is the act of assigning a *value* to a *variable*. \n",
    "The assigned value here could be a literal could even be the value stored in a different variable.\n",
    "Rather than sucking up too much air talking about assignment, let's just go ahead at do it first:"
   ]
  },
  {
   "cell_type": "code",
   "execution_count": 2,
   "metadata": {},
   "outputs": [],
   "source": [
    "my_variable = \"Hello\""
   ]
  },
  {
   "cell_type": "markdown",
   "metadata": {},
   "source": [
    "So what happened here? Basically, you can think of the assignment operator `=` as a function. It takes the value on the right hand side (RHS), here the *literal* `\"Hello\"`, and it assigns it to a variable with the name given on the left-hand side (LHS), here `my_variable`.\n",
    "Once this value has been assigned, we can now access it by using the variable `my_variable`, \n",
    "vs. by placing redundant literals throughout the code:"
   ]
  },
  {
   "cell_type": "code",
   "execution_count": 4,
   "metadata": {},
   "outputs": [
    {
     "name": "stdout",
     "output_type": "stream",
     "text": [
      "Hello\n"
     ]
    }
   ],
   "source": [
    "print(my_variable)"
   ]
  },
  {
   "cell_type": "markdown",
   "metadata": {},
   "source": [
    "You might have noticed that unlike some other languages, we didn't have to do anything special to allocate the memory that `my_variable` requires. We also didn't need to "
   ]
  }
 ],
 "metadata": {
  "kernelspec": {
   "display_name": "Python 3",
   "language": "python",
   "name": "python3"
  },
  "language_info": {
   "codemirror_mode": {
    "name": "ipython",
    "version": 3
   },
   "file_extension": ".py",
   "mimetype": "text/x-python",
   "name": "python",
   "nbconvert_exporter": "python",
   "pygments_lexer": "ipython3",
   "version": "3.6.5"
  }
 },
 "nbformat": 4,
 "nbformat_minor": 2
}
