{
 "cells": [
  {
   "cell_type": "markdown",
   "metadata": {},
   "source": [
    "# Numbers\n",
    "\n",
    "Now let's take a deeper look at how to work with numbers. Recall that Python supports `int`, `float` and `complex` number types.\n",
    "\n",
    "\n",
    "## Arithmetic\n",
    "To begin let's briefly introduce the basic arithmetic operators:"
   ]
  },
  {
   "cell_type": "code",
   "execution_count": 17,
   "metadata": {},
   "outputs": [
    {
     "name": "stdout",
     "output_type": "stream",
     "text": [
      "x \t\t\t <class 'int'> 5\n",
      "y \t\t\t <class 'int'> 8\n",
      "Addition: x + y \t <class 'int'> 13\n",
      "Subtraction: x - y \t <class 'int'> -3\n",
      "Multiplication: x * y \t <class 'int'> 40\n",
      "Division: x / y \t <class 'float'> 0.625\n",
      "Exponentiation: x ** y \t <class 'int'> 390625\n"
     ]
    }
   ],
   "source": [
    "x = 5\n",
    "y = 8\n",
    "\n",
    "# Basic Debugging\n",
    "print(\"x \\t\\t\\t\", type(x), x)\n",
    "print(\"y \\t\\t\\t\", type(y), y)\n",
    "\n",
    "# Addition\n",
    "result = x + y\n",
    "print('Addition:', 'x + y \\t', type(result), result)\n",
    "\n",
    "# Subtraction\n",
    "result = x - y\n",
    "print('Subtraction:', 'x - y \\t', type(result), result)\n",
    "\n",
    "# Multiplication\n",
    "result = x * y\n",
    "print('Multiplication:', 'x * y \\t', type(result), result)\n",
    "\n",
    "# Division\n",
    "result = x / y\n",
    "print('Division:', 'x / y \\t', type(result), result)\n",
    "\n",
    "# Exponentiation\n",
    "result = x ** y\n",
    "print('Exponentiation:', 'x ** y \\t', type(result), result)"
   ]
  },
  {
   "cell_type": "markdown",
   "metadata": {},
   "source": [
    "Note that when we compose together two `int`s with most basic arithemtic operators, the results are integers. However if we divide two `int`s, the result is a `float`. In older versions of Python (and in many older languages, like C), the built-in division operation is integer division. Note that in general to return an integer upon dividing two integers, we would have to either round the result, or discard the fractional part. \n",
    "Classically, the convention is to discard the fractional component.\n",
    "\n",
    "We can invoke the classic integer division by using the `//` operator."
   ]
  },
  {
   "cell_type": "code",
   "execution_count": 18,
   "metadata": {},
   "outputs": [
    {
     "name": "stdout",
     "output_type": "stream",
     "text": [
      "Division: x // y \t <class 'int'> 0\n"
     ]
    }
   ],
   "source": [
    "# Division\n",
    "result = x // y\n",
    "print('Division:', 'x // y \\t', type(result), result)"
   ]
  },
  {
   "cell_type": "markdown",
   "metadata": {},
   "source": [
    "The modulo operator:\n",
    "Another convenient operator is the modulo operator: `%`. This does the opposite of integer division. Instead of discarding the remainder, it *only* returns the remainder:"
   ]
  },
  {
   "cell_type": "code",
   "execution_count": 19,
   "metadata": {},
   "outputs": [
    {
     "name": "stdout",
     "output_type": "stream",
     "text": [
      "3\n",
      "0\n",
      "1\n"
     ]
    }
   ],
   "source": [
    "print(8 % 5)\n",
    "print(9 % 3)\n",
    "print(13 % 4)"
   ]
  },
  {
   "cell_type": "markdown",
   "metadata": {},
   "source": [
    "## Floating point arithmetic\n",
    "\n",
    "Python also supports the standard continuous math functions on floating point numbers. There are no big surprises here. "
   ]
  },
  {
   "cell_type": "code",
   "execution_count": 20,
   "metadata": {},
   "outputs": [
    {
     "name": "stdout",
     "output_type": "stream",
     "text": [
      "x \t\t\t <class 'float'> 5.0\n",
      "y \t\t\t <class 'float'> 8.0\n",
      "Addition: x + y \t <class 'float'> 13.0\n",
      "Subtraction: x - y \t <class 'float'> -3.0\n",
      "Multiplication: x * y \t <class 'float'> 40.0\n",
      "Division: x / y \t <class 'float'> 0.625\n",
      "Exponentiation: x ** y \t <class 'float'> 390625.0\n"
     ]
    }
   ],
   "source": [
    "x = 5.0\n",
    "y = 8.0\n",
    "\n",
    "# Basic Debugging\n",
    "print(\"x \\t\\t\\t\", type(x), x)\n",
    "print(\"y \\t\\t\\t\", type(y), y)\n",
    "\n",
    "# Addition\n",
    "result = x + y\n",
    "print('Addition:', 'x + y \\t', type(result), result)\n",
    "\n",
    "# Subtraction\n",
    "result = x - y\n",
    "print('Subtraction:', 'x - y \\t', type(result), result)\n",
    "\n",
    "# Multiplication\n",
    "result = x * y\n",
    "print('Multiplication:', 'x * y \\t', type(result), result)\n",
    "\n",
    "# Division\n",
    "result = x / y\n",
    "print('Division:', 'x / y \\t', type(result), result)\n",
    "\n",
    "# Exponentiation\n",
    "result = x ** y\n",
    "print('Exponentiation:', 'x ** y \\t', type(result), result)"
   ]
  },
  {
   "cell_type": "markdown",
   "metadata": {},
   "source": [
    "## Plus-equals and friends\n",
    "\n",
    "A very common workflow is we want to update the value of a variable by adding, subtracting, multiplying or dividing some value from its current value. \n",
    "Like many languages, Python supports these operations via the `+=`, `-=`, `*=`, and `/=` operators."
   ]
  },
  {
   "cell_type": "code",
   "execution_count": 1,
   "metadata": {},
   "outputs": [
    {
     "name": "stdout",
     "output_type": "stream",
     "text": [
      "10\n",
      "11\n",
      "10\n",
      "20\n",
      "10.0\n"
     ]
    }
   ],
   "source": [
    "x = 10\n",
    "print(x)\n",
    "x += 1\n",
    "print(x)\n",
    "x -=  1\n",
    "print(x)\n",
    "x *= 2 \n",
    "print(x)\n",
    "x /= 2 \n",
    "print(x)"
   ]
  },
  {
   "cell_type": "markdown",
   "metadata": {},
   "source": [
    "## The standard  `math` library\n",
    "\n",
    "For more advanced operations than those built in to the Python programming language, you can import the math library. \n",
    "Importing a library is easy. \n",
    "Just run `import math`\n",
    "This gives us access to all the functions contained in the `math` package by calling `math.<function_name>`."
   ]
  },
  {
   "cell_type": "code",
   "execution_count": 21,
   "metadata": {},
   "outputs": [
    {
     "data": {
      "text/plain": [
       "1.2246467991473532e-16"
      ]
     },
     "execution_count": 21,
     "metadata": {},
     "output_type": "execute_result"
    }
   ],
   "source": [
    "import math\n",
    "\n",
    "# round up a number \n",
    "math.ceil(5.3)\n",
    "\n",
    "# round a number down \n",
    "math.floor(5.3)\n",
    "\n",
    "# access trigonometric functions and common constants\n",
    "math.sin(math.pi)"
   ]
  },
  {
   "cell_type": "markdown",
   "metadata": {},
   "source": [
    "You might notice have expected that $\\text{sin}(\\pi)$ executed in code as `math.sin(math.pi)` should return the value 0.\n",
    "If you look closely, you'll notice that the value returned (on my computer `1.2246467991473532e-16`) while not *exactly* `0` is very very close. That's because although the computer can simulate continuous mathematics, all the memory on the entire machine (or any machine) could never store all the digits of $\\pi$. So the computer doesn't really store continuous numbers, instead it approximates continuous math with floats by sotring some significant digits and then an order of magnitude. The result is that sometimes we'll be off just a tiny bit, if only at extreme precision and orders of magnitude. If you're really fascinated about floating point arithmetic, perhaps start by checking out [the Wikipedia page](https://en.wikipedia.org/wiki/Floating-point_arithmetic) or the official Python documentation on how [the issues and limitations of floating point arithmetic](https://docs.python.org/3/tutorial/floatingpoint.html).\n"
   ]
  },
  {
   "cell_type": "markdown",
   "metadata": {},
   "source": [
    "## Casting between number types\n",
    "\n",
    "Sometimes you might want to explicitly treat an integer as a float or vice versa. One simple way to do this is by *casting* between these types, using the `int()` and `float()` functions:"
   ]
  },
  {
   "cell_type": "code",
   "execution_count": 24,
   "metadata": {},
   "outputs": [
    {
     "name": "stdout",
     "output_type": "stream",
     "text": [
      "3\n",
      "3.0\n"
     ]
    }
   ],
   "source": [
    "print(int(3.4))\n",
    "print(float(3))"
   ]
  },
  {
   "cell_type": "markdown",
   "metadata": {},
   "source": [
    "You can even convert between numbers and Booleans using the `bool()` function"
   ]
  },
  {
   "cell_type": "code",
   "execution_count": 33,
   "metadata": {},
   "outputs": [
    {
     "name": "stdout",
     "output_type": "stream",
     "text": [
      "True\n",
      "True\n",
      "False\n",
      "False\n",
      "1\n",
      "0\n",
      "1.0\n",
      "0.0\n"
     ]
    }
   ],
   "source": [
    "print(bool(4))\n",
    "print(bool(4.4))\n",
    "print(bool(0))\n",
    "print(bool(0.0))\n",
    "print(int(True))\n",
    "print(int(False))\n",
    "print(float(True))\n",
    "print(float(False))"
   ]
  },
  {
   "cell_type": "markdown",
   "metadata": {},
   "source": [
    "Be careful! If you convert directly from a `float` to a `bool`, you might think you're evaluating the number 0, (and thus should get `False`) but actually you'll get `True` do the loss of precision."
   ]
  },
  {
   "cell_type": "code",
   "execution_count": 36,
   "metadata": {},
   "outputs": [
    {
     "name": "stdout",
     "output_type": "stream",
     "text": [
      "True\n"
     ]
    }
   ],
   "source": [
    "print(bool(math.sin(math.pi)))"
   ]
  }
 ],
 "metadata": {
  "kernelspec": {
   "display_name": "Python 3",
   "language": "python",
   "name": "python3"
  },
  "language_info": {
   "codemirror_mode": {
    "name": "ipython",
    "version": 3
   },
   "file_extension": ".py",
   "mimetype": "text/x-python",
   "name": "python",
   "nbconvert_exporter": "python",
   "pygments_lexer": "ipython3",
   "version": "3.6.5"
  }
 },
 "nbformat": 4,
 "nbformat_minor": 2
}
