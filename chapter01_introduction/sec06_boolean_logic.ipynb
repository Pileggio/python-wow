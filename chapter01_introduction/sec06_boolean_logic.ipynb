{
 "cells": [
  {
   "cell_type": "markdown",
   "metadata": {},
   "source": [
    "## Boolean logic\n",
    "\n",
    "Boolean values are useful because we use them to perform Boolean arithmetic. These are the logic operations.\n",
    "\n",
    "Some basic operations act upon Boolean values and produce Boolean values. These include:"
   ]
  },
  {
   "cell_type": "code",
   "execution_count": 5,
   "metadata": {},
   "outputs": [
    {
     "name": "stdout",
     "output_type": "stream",
     "text": [
      "The not opeprator\n",
      "not p:  False\n",
      "not q:  True\n",
      "\n",
      "The and opeprator\n",
      "p and p:  True\n",
      "p and q:  False\n",
      "q and q:  False\n",
      "\n",
      "The or opeprator\n",
      "p or p:  True\n",
      "p or q:  True\n",
      "q or q:  False\n"
     ]
    }
   ],
   "source": [
    "p = True\n",
    "q = False\n",
    "\n",
    "print(\"The not opeprator\")\n",
    "print(\"not p: \", not p)\n",
    "print(\"not q: \", not q)\n",
    "\n",
    "print(\"\\nThe and opeprator\")\n",
    "print(\"p and p: \", p and p)\n",
    "print(\"p and q: \", p and q)\n",
    "print(\"q and q: \", q and q)\n",
    "\n",
    "print(\"\\nThe or opeprator\")\n",
    "print(\"p or p: \", p or p)\n",
    "print(\"p or q: \", p or q)\n",
    "print(\"q or q: \", q or q)\n"
   ]
  },
  {
   "cell_type": "markdown",
   "metadata": {},
   "source": [
    "## Comparisons\n",
    "\n",
    "We also often use operators that act upon non-Boolean inputs (say strings or numbers) but produce Boolean outputs. "
   ]
  },
  {
   "cell_type": "code",
   "execution_count": 10,
   "metadata": {},
   "outputs": [
    {
     "name": "stdout",
     "output_type": "stream",
     "text": [
      "5 > 6: \t\t False\n",
      "'a' == 'b': \t False\n",
      "'a' != 'b': \t True\n"
     ]
    }
   ],
   "source": [
    "# Greater than\n",
    "print(\"5 > 6: \\t\\t\", 5 > 6)\n",
    "\n",
    "# Testing equality\n",
    "print(\"'a' == 'b': \\t\", 'a' == 'b')\n",
    "\n",
    "# Not equal to\n",
    "print(\"'a' != 'b': \\t\", 'a' != 'b')"
   ]
  }
 ],
 "metadata": {
  "kernelspec": {
   "display_name": "Python 3",
   "language": "python",
   "name": "python3"
  },
  "language_info": {
   "codemirror_mode": {
    "name": "ipython",
    "version": 3
   },
   "file_extension": ".py",
   "mimetype": "text/x-python",
   "name": "python",
   "nbconvert_exporter": "python",
   "pygments_lexer": "ipython3",
   "version": "3.6.5"
  }
 },
 "nbformat": 4,
 "nbformat_minor": 2
}
